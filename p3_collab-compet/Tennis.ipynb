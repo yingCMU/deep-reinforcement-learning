{
 "cells": [
  {
   "cell_type": "markdown",
   "metadata": {},
   "source": [
    "# Collaboration and Competition\n",
    "\n",
    "---\n",
    "\n",
    "You are welcome to use this coding environment to train your agent for the project.  Follow the instructions below to get started!\n",
    "\n",
    "### 1. Start the Environment\n",
    "\n",
    "Run the next code cell to install a few packages.  This line will take a few minutes to run!"
   ]
  },
  {
   "cell_type": "code",
   "execution_count": 1,
   "metadata": {},
   "outputs": [
    {
     "name": "stdout",
     "output_type": "stream",
     "text": [
      "06:57:05\n"
     ]
    }
   ],
   "source": [
    "import importlib\n",
    "import Agent\n",
    "importlib.reload(Agent)\n",
    "\n",
    "\n",
    "import time\n",
    "\n",
    "t = time.localtime()\n",
    "current_time = time.strftime(\"%H:%M:%S\", t)\n",
    "print(current_time)"
   ]
  },
  {
   "cell_type": "code",
   "execution_count": 2,
   "metadata": {},
   "outputs": [
    {
     "name": "stdout",
     "output_type": "stream",
     "text": [
      "\u001b[31mtensorflow 1.7.1 has requirement numpy>=1.13.3, but you'll have numpy 1.12.1 which is incompatible.\u001b[0m\r\n",
      "\u001b[31mipython 6.5.0 has requirement prompt-toolkit<2.0.0,>=1.0.15, but you'll have prompt-toolkit 3.0.5 which is incompatible.\u001b[0m\r\n"
     ]
    }
   ],
   "source": [
    "!pip -q install ./python"
   ]
  },
  {
   "cell_type": "markdown",
   "metadata": {},
   "source": [
    "The environment is already saved in the Workspace and can be accessed at the file path provided below. "
   ]
  },
  {
   "cell_type": "code",
   "execution_count": 3,
   "metadata": {},
   "outputs": [
    {
     "name": "stderr",
     "output_type": "stream",
     "text": [
      "INFO:unityagents:\n",
      "'Academy' started successfully!\n",
      "Unity Academy name: Academy\n",
      "        Number of Brains: 1\n",
      "        Number of External Brains : 1\n",
      "        Lesson number : 0\n",
      "        Reset Parameters :\n",
      "\t\t\n",
      "Unity brain name: TennisBrain\n",
      "        Number of Visual Observations (per agent): 0\n",
      "        Vector Observation space type: continuous\n",
      "        Vector Observation space size (per agent): 8\n",
      "        Number of stacked Vector Observation: 3\n",
      "        Vector Action space type: continuous\n",
      "        Vector Action space size (per agent): 2\n",
      "        Vector Action descriptions: , \n"
     ]
    }
   ],
   "source": [
    "from unityagents import UnityEnvironment\n",
    "import numpy as np\n",
    "\n",
    "env = UnityEnvironment(file_name=\"/data/Tennis_Linux_NoVis/Tennis\")\n"
   ]
  },
  {
   "cell_type": "markdown",
   "metadata": {},
   "source": [
    "Environments contain **_brains_** which are responsible for deciding the actions of their associated agents. Here we check for the first brain available, and set it as the default brain we will be controlling from Python."
   ]
  },
  {
   "cell_type": "code",
   "execution_count": 4,
   "metadata": {},
   "outputs": [],
   "source": [
    "# get the default brain\n",
    "brain_name = env.brain_names[0]\n",
    "brain = env.brains[brain_name]\n",
    "brain_name\n",
    "USE_MULTI_AGENT_ENV = False"
   ]
  },
  {
   "cell_type": "markdown",
   "metadata": {},
   "source": [
    "### 2. Examine the State and Action Spaces\n",
    "\n",
    "Run the code cell below to print some information about the environment."
   ]
  },
  {
   "cell_type": "code",
   "execution_count": 5,
   "metadata": {},
   "outputs": [
    {
     "name": "stdout",
     "output_type": "stream",
     "text": [
      "Number of agents: 2\n",
      "Size of each action: 2\n",
      "states.shape (2, 24)\n",
      "There are 2 agents. Each observes a state with length: 24\n",
      "The state for the first agent looks like: [ 0.          0.          0.          0.          0.          0.          0.\n",
      "  0.          0.          0.          0.          0.          0.          0.\n",
      "  0.          0.         -6.65278625 -1.5        -0.          0.\n",
      "  6.83172083  6.         -0.          0.        ]\n"
     ]
    }
   ],
   "source": [
    "import torch\n",
    "import torch.nn as nn\n",
    "import torch.nn.functional as F\n",
    "# reset the environment\n",
    "env_info = env.reset(train_mode=True)[brain_name]\n",
    "\n",
    "# number of agents \n",
    "num_agents = len(env_info.agents)\n",
    "print('Number of agents:', num_agents)\n",
    "\n",
    "# size of each action\n",
    "action_size = brain.vector_action_space_size\n",
    "print('Size of each action:', action_size)\n",
    "# print('action_size:', action_size)\n",
    "\n",
    "# examine the state space \n",
    "states = env_info.vector_observations\n",
    "print('states.shape', states.shape)\n",
    "state_size = states.shape[1]\n",
    "print('There are {} agents. Each observes a state with length: {}'.format(states.shape[0], state_size))\n",
    "print('The state for the first agent looks like:', states[0])"
   ]
  },
  {
   "cell_type": "code",
   "execution_count": 6,
   "metadata": {},
   "outputs": [],
   "source": [
    "# test_states = env_info.vector_observations \n",
    "# test_states.__class__\n",
    "\n",
    "# next_states=[]\n",
    "# next_states.append(test_states[0])\n",
    "# np.asarray(all_agents_actions_next) "
   ]
  },
  {
   "cell_type": "markdown",
   "metadata": {},
   "source": [
    "### 3. Take Random Actions in the Environment\n",
    "\n",
    "In the next code cell, you will learn how to use the Python API to control the agent and receive feedback from the environment.\n",
    "\n",
    "Note that **in this coding environment, you will not be able to watch the agents while they are training**, and you should set `train_mode=True` to restart the environment."
   ]
  },
  {
   "cell_type": "code",
   "execution_count": 7,
   "metadata": {},
   "outputs": [],
   "source": [
    "# a = None\n",
    "# b = None\n",
    "# for i in range(5):                                         # play game for 5 episodes\n",
    "#     env_info = env.reset(train_mode=False)[brain_name]     # reset the environment    \n",
    "#     states = env_info.vector_observations                  # get the current state (for each agent)\n",
    "#     scores = np.zeros(num_agents)                          # initialize the score (for each agent)\n",
    "#     t = 0\n",
    "#     while True:\n",
    "#         t += 1\n",
    "#         actions = np.random.randn(num_agents, action_size) # select an action (for each agent)\n",
    "# #         print('before actions', actions)\n",
    "# #         actions = np.clip(actions, -1, 1)                  # all actions between -1 and 1\n",
    "# #         print('after actions', actions)\n",
    "#         env_info = env.step(actions)[brain_name]           # send all actions to tne environment\n",
    "#         next_states = env_info.vector_observations         # get next state (for each agent)\n",
    "#         rewards = env_info.rewards                         # get reward (for each agent)\n",
    "#         dones = env_info.local_done                        # see if episode finished\n",
    "#         scores += env_info.rewards                         # update the score (for each agent)\n",
    "#         states = next_states                               # roll over states to next time step\n",
    "# #         print(i,'rewards:', rewards)\n",
    "        \n",
    "#         if np.any(dones):                                  # exit loop if episode finished\n",
    "#             if a is None:\n",
    "#                 a = actions\n",
    "#             elif b is None:\n",
    "#                 b = actions\n",
    "# #             torch.from_numpy(np.vstack([e.state for e in experiences if e is not None])).float().to(device)\n",
    "#             break\n",
    "#     print(i,'------episode done------')\n",
    "    \n",
    "#     print('Total score (averaged over agents) this episode: {} / max timestep {} '.format(np.mean(scores), t))"
   ]
  },
  {
   "cell_type": "markdown",
   "metadata": {},
   "source": [
    "When finished, you can close the environment."
   ]
  },
  {
   "cell_type": "markdown",
   "metadata": {},
   "source": [
    "### 4. It's Your Turn!\n",
    "\n",
    "Now it's your turn to train your own agent to solve the environment!  A few **important notes**:\n",
    "- When training the environment, set `train_mode=True`, so that the line for resetting the environment looks like the following:\n",
    "```python\n",
    "env_info = env.reset(train_mode=True)[brain_name]\n",
    "```\n",
    "- To structure your work, you're welcome to work directly in this Jupyter notebook, or you might like to start over with a new file!  You can see the list of files in the workspace by clicking on **_Jupyter_** in the top left corner of the notebook.\n",
    "- In this coding environment, you will not be able to watch the agents while they are training.  However, **_after training the agents_**, you can download the saved model weights to watch the agents on your own machine! "
   ]
  },
  {
   "cell_type": "code",
   "execution_count": 8,
   "metadata": {},
   "outputs": [
    {
     "name": "stdout",
     "output_type": "stream",
     "text": [
      "ready to train\n"
     ]
    }
   ],
   "source": [
    "from collections import namedtuple, deque\n",
    "\n",
    "def get_path(suffix):\n",
    "    CHECKPOINT_PATH_ACTOR_BASE = 'checkpoint_actor{}_{}.pth' \n",
    "    CHECKPOINT_PATH_CRITIC_BASE = 'checkpoint_critic{}_{}.pth'\n",
    "    actors_path = [CHECKPOINT_PATH_ACTOR_BASE.format(1, suffix),CHECKPOINT_PATH_ACTOR_BASE.format(2, suffix)]\n",
    "    critics_path = [ CHECKPOINT_PATH_CRITIC_BASE.format(1, suffix),CHECKPOINT_PATH_CRITIC_BASE.format(2, suffix)]\n",
    "    return (actors_path, critics_path)\n",
    "\n",
    "def load_checkpoint(agent, path_suffix):\n",
    "    actor1_path_to_load, actor2_path_to_load, critic_path_to_load = get_path(path_suffix)\n",
    "    agent.actors_target[0].load_state_dict(torch.load(actor1_path_to_load))\n",
    "    agent.actors_target[1].load_state_dict(torch.load(actor2_path_to_load))\n",
    "    agent.actors_local[0].load_state_dict(torch.load(actor1_path_to_load))\n",
    "    agent.actors_local[1].load_state_dict(torch.load(actor2_path_to_load))\n",
    "    agent.critic_local.load_state_dict(torch.load(critic_path_to_load))\n",
    "    agent.critic_target.load_state_dict(torch.load(critic_path_to_load))\n",
    "    print('*****realoaded saved checkpoint******', actor1_path_to_load, critic_path_to_load)\n",
    "   \n",
    "print('ready to train')\n"
   ]
  },
  {
   "cell_type": "markdown",
   "metadata": {},
   "source": [
    "# Running maddpg"
   ]
  },
  {
   "cell_type": "code",
   "execution_count": 13,
   "metadata": {},
   "outputs": [],
   "source": [
    "import utilities\n",
    "importlib.reload(utilities)\n",
    "\n",
    "LAST_BEST_SCORE=float('-inf')\n",
    "\n",
    "def ddpg_ma_version(agent, n_episodes, path_to_write_suffix,apply_noise=True, eval_mode=True, start_noise=10, noise_reduction=0.9999,min_noise=0.1, max_t=1000, last_best_score=LAST_BEST_SCORE, final_scores=[]):\n",
    "    actors_path,critics_path = get_path(path_to_write_suffix)\n",
    "    noise = start_noise if apply_noise else 0\n",
    "    noise_reduction = noise_reduction\n",
    "    print('--------start learning----------')\n",
    "    last_100_scores_deque = deque(maxlen=100)\n",
    "    for i_episode in range(1, n_episodes+1):\n",
    "#         states = env.reset()[brain_name].vector_observations\n",
    "        states = env.reset(train_mode=True)[brain_name].vector_observations\n",
    "        agent.reset()\n",
    "        ending_t = 0\n",
    "        all_agent_scores = []\n",
    "        reward_this_episode = np.zeros((1, 2))\n",
    "        update_iteration = 0\n",
    "        for t in range(max_t):\n",
    "            # make add_noise=True when early in the training stage;\n",
    "            # I changed it False at the end to verify the agent solves the environemnt\n",
    "            actions_for_2 = agent.act(states, noise=noise)\n",
    "            noise = max(noise*noise_reduction, min_noise)\n",
    "            actions_array = torch.stack(actions_for_2).detach().cpu().numpy()\n",
    "            actions_for_env = np.rollaxis(actions_array,1)\n",
    "            env_info= env.step(actions_for_env)[brain_name]\n",
    "            next_states_for_2 = env_info.vector_observations   # get the next state\n",
    "            rewards_for_2 = env_info.rewards                   # get the reward\n",
    "            done_for_2 = env_info.local_done\n",
    "            # if model has not been improving, then update the networks 10 times after every 20 timesteps\n",
    "            agent.add_to_memory(states, actions_array, rewards_for_2, next_states_for_2, done_for_2, i_episode)\n",
    "            if not eval_mode:\n",
    "                update_iteration = agent.learn_and_update(i_episode, t, start_update_episode=0, ts_per_update=1 , updates_per_ts=0.2, update_iteration=update_iteration)\n",
    "\n",
    "            reward_this_episode += rewards_for_2\n",
    "            states = next_states_for_2\n",
    "            all_agent_scores.append(rewards_for_2)\n",
    "            if np.any(done_for_2):\n",
    "                ending_t=t\n",
    "                break\n",
    "        c = np.vstack(all_agent_scores)\n",
    "        sum_all_agent_scores = c.sum(axis=0)\n",
    "        episode_max_score =  np.max(sum_all_agent_scores)\n",
    "        last_100_scores_deque.append(episode_max_score)\n",
    "        last_100_avg_score =  np.mean(last_100_scores_deque)\n",
    "        final_scores.append(episode_max_score)\n",
    "        if last_best_score < episode_max_score:\n",
    "            print('[...Saving model - episode {};T {} ; episode_max={:.2f}; last_100_avg_score={:.4f} path {}'.format(i_episode,ending_t, episode_max_score, last_100_avg_score,path_to_write_suffix))\n",
    "            last_best_score = episode_max_score\n",
    "            for agent_i in range(2):\n",
    "                torch.save(agent.maddpg_agent[agent_i].actor_local.state_dict(), actors_path[agent_i])\n",
    "                torch.save(agent.maddpg_agent[agent_i].critic_local.state_dict(), critics_path[agent_i])\n",
    "\n",
    "        if last_100_avg_score >= 0.5:\n",
    "            print('\\rSolved environment after {} Episodes\\t Last Max Agent Score: {:.2f}'.format(i_episode, episode_max_score))\n",
    "            return final_scores\n",
    "        \n",
    "        if last_100_avg_score <0.05 and i_episode >1500:\n",
    "            print('Early return:i_episode={}; last_100_avg_score={}'.format(i_episode, last_100_avg_score))\n",
    "            return\n",
    "\n",
    "\n",
    "        if i_episode%100 == 0:\n",
    "            print('\\rEpisode {}; Ending_T {} ; episode_max: {:.12f} ; last_100_avg_score {:.4f}; Buffer {}.'.format(i_episode, ending_t, episode_max_score,last_100_avg_score, agent.memory.__len__()))\n",
    "    print('----- Finish Training for {} Episodes, best score: {} | -------'.format(n_episodes, last_best_score))\n",
    "    return final_scores\n"
   ]
  },
  {
   "cell_type": "code",
   "execution_count": 14,
   "metadata": {},
   "outputs": [
    {
     "name": "stdout",
     "output_type": "stream",
     "text": [
      "model_2 Critic\n",
      "model_2 Critic\n",
      "DDPGAgent: lr_actor=0.0002 ; lr_critic=0.001\n",
      "DDPGAgent: lr_actor=0.0002 ; lr_critic=0.001\n",
      "ReplayBuffer-device: cuda\n",
      "--------start learning----------\n",
      "[...Saving model - episode 1;T 13 ; episode_max=0.00; last_100_avg_score=0.0000 path 6_11_train_v2\n",
      "[...Saving model - episode 4;T 30 ; episode_max=0.09; last_100_avg_score=0.0225 path 6_11_train_v2\n",
      "[...Saving model - episode 7;T 51 ; episode_max=0.10; last_100_avg_score=0.0271 path 6_11_train_v2\n",
      "[...Saving model - episode 69;T 67 ; episode_max=0.19; last_100_avg_score=0.0126 path 6_11_train_v2\n",
      "Episode 100; Ending_T 14 ; episode_max: 0.000000000000 ; last_100_avg_score 0.0097; Buffer 1688.\n",
      "Episode 200; Ending_T 13 ; episode_max: 0.000000000000 ; last_100_avg_score 0.0057; Buffer 3257.\n",
      "Episode 300; Ending_T 13 ; episode_max: 0.000000000000 ; last_100_avg_score 0.0147; Buffer 5088.\n",
      "Episode 400; Ending_T 13 ; episode_max: 0.000000000000 ; last_100_avg_score 0.0079; Buffer 6689.\n",
      "Episode 500; Ending_T 13 ; episode_max: 0.000000000000 ; last_100_avg_score 0.0158; Buffer 8528.\n",
      "Episode 600; Ending_T 28 ; episode_max: 0.100000001490 ; last_100_avg_score 0.0118; Buffer 10197.\n",
      "[...Saving model - episode 641;T 70 ; episode_max=0.20; last_100_avg_score=0.0128 path 6_11_train_v2\n",
      "Episode 700; Ending_T 59 ; episode_max: 0.100000001490 ; last_100_avg_score 0.0198; Buffer 12103.\n",
      "Episode 800; Ending_T 33 ; episode_max: 0.100000001490 ; last_100_avg_score 0.0221; Buffer 14000.\n",
      "Episode 900; Ending_T 13 ; episode_max: 0.000000000000 ; last_100_avg_score 0.0289; Buffer 16205.\n",
      "Episode 1000; Ending_T 13 ; episode_max: 0.000000000000 ; last_100_avg_score 0.0422; Buffer 18852.\n",
      "Episode 1100; Ending_T 48 ; episode_max: 0.100000001490 ; last_100_avg_score 0.0462; Buffer 21583.\n",
      "Episode 1200; Ending_T 13 ; episode_max: 0.000000000000 ; last_100_avg_score 0.0459; Buffer 24382.\n",
      "Episode 1300; Ending_T 29 ; episode_max: 0.100000001490 ; last_100_avg_score 0.0422; Buffer 26913.\n",
      "Episode 1400; Ending_T 31 ; episode_max: 0.090000001714 ; last_100_avg_score 0.0428; Buffer 29148.\n",
      "[...Saving model - episode 1445;T 537 ; episode_max=1.40; last_100_avg_score=0.0622 path 6_11_train_v2\n",
      "Episode 1500; Ending_T 29 ; episode_max: 0.090000001714 ; last_100_avg_score 0.0915; Buffer 32911.\n",
      "[...Saving model - episode 1517;T 794 ; episode_max=2.10; last_100_avg_score=0.1295 path 6_11_train_v2\n",
      "[...Saving model - episode 1522;T 0 ; episode_max=2.60; last_100_avg_score=0.1567 path 6_11_train_v2\n",
      "Solved environment after 1575 Episodes\t Last Max Agent Score: 1.30\n"
     ]
    }
   ],
   "source": [
    "#test\n",
    "from workspace_utils import active_session\n",
    "import maddpg as maddpg_package\n",
    "importlib.reload(maddpg_package)\n",
    "import Agent\n",
    "importlib.reload(Agent)\n",
    "maddpg_agent = maddpg_package.MADDPG( lr_actor=2e-4, lr_critic=1e-3, state_size=state_size, action_size=action_size, random_seed=0)\n",
    "\n",
    "with active_session():\n",
    "    final_scores_train=ddpg_ma_version(agent=maddpg_agent,start_noise=5,eval_mode=False, noise_reduction=0.9999, min_noise=0.001,  n_episodes=4000, path_to_write_suffix='6_11_train_v2')\n",
    "    "
   ]
  },
  {
   "cell_type": "markdown",
   "metadata": {},
   "source": [
    "# Plot of rewards per episode"
   ]
  },
  {
   "cell_type": "code",
   "execution_count": 17,
   "metadata": {},
   "outputs": [
    {
     "data": {
      "image/png": "[encoded data removed]",
      "text/plain": [
       "<matplotlib.figure.Figure at 0x7fbfb2b43f60>"
      ]
     },
     "metadata": {
      "needs_background": "light"
     },
     "output_type": "display_data"
    }
   ],
   "source": [
    "import matplotlib.pyplot as plt\n",
    "fig = plt.figure()\n",
    "# ax = plt.axes()\n",
    "ax = fig.add_subplot(111)\n",
    "plt.plot(np.arange(1, len(final_scores_train)+1), final_scores_train)\n",
    "plt.ylabel('Score')\n",
    "plt.xlabel('Episode #')\n",
    "plt.show()"
   ]
  }
 ],
 "metadata": {
  "kernelspec": {
   "display_name": "Python 3",
   "language": "python",
   "name": "python3"
  },
  "language_info": {
   "codemirror_mode": {
    "name": "ipython",
    "version": 3
   },
   "file_extension": ".py",
   "mimetype": "text/x-python",
   "name": "python",
   "nbconvert_exporter": "python",
   "pygments_lexer": "ipython3",
   "version": "3.6.3"
  }
 },
 "nbformat": 4,
 "nbformat_minor": 2
}
